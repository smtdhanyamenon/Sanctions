import pandas as pd
import matplotlib.pyplot as plt
import seaborn as sns

# Load data
df = pd.read_csv('../data/sanctions_cleaned.csv')

# Explore goals
plt.figure(figsize=(10, 6))
sns.countplot(y='main goal(s)', data=df)
plt.title('Distribution of Sanction Goals')
plt.show()

# Sender-target interactions
sender_target = pd.crosstab(df['sender'], df['target'])
plt.figure(figsize=(12, 8))
sns.heatmap(sender_target, cmap='viridis')
plt.title('Sender-Target Interactions')
plt.show()
